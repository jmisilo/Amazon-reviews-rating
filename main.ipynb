{
 "cells": [
  {
   "cell_type": "code",
   "execution_count": null,
   "id": "8c920820",
   "metadata": {},
   "outputs": [],
   "source": [
    "import functools\n",
    "import operator \n",
    "import json\n",
    "import numpy as np\n",
    "import pandas as pd\n",
    "import matplotlib as plt\n",
    "import torch\n",
    "import torch.nn as nn \n",
    "import torch.nn.functional as F\n",
    "import torch.optim as optim\n",
    "from torch.utils.data import Dataset, DataLoader, random_split\n",
    "from dataclasses import dataclass"
   ]
  },
  {
   "cell_type": "code",
   "execution_count": null,
   "id": "3855c3c9",
   "metadata": {},
   "outputs": [],
   "source": [
    "@dataclass\n",
    "class cfg:\n",
    "    batch_size = 32\n",
    "    lr = 3e-4"
   ]
  }
 ],
 "metadata": {
  "kernelspec": {
   "display_name": "amazon-rev-sent-analysis",
   "language": "python",
   "name": "amazon-rev-sent-analysis"
  },
  "language_info": {
   "codemirror_mode": {
    "name": "ipython",
    "version": 3
   },
   "file_extension": ".py",
   "mimetype": "text/x-python",
   "name": "python",
   "nbconvert_exporter": "python",
   "pygments_lexer": "ipython3",
   "version": "3.8.8"
  }
 },
 "nbformat": 4,
 "nbformat_minor": 5
}
