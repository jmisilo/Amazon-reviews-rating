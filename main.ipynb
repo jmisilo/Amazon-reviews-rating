{
 "cells": [
  {
   "cell_type": "markdown",
   "id": "d52ecdb6",
   "metadata": {},
   "source": [
    "## 1. Import depedencies"
   ]
  },
  {
   "cell_type": "code",
   "execution_count": 1,
   "id": "b4cb07cc",
   "metadata": {},
   "outputs": [
    {
     "name": "stderr",
     "output_type": "stream",
     "text": [
      "D:\\workspace\\python\\amazon-rev-sent-analysis\\venv\\lib\\site-packages\\setuptools\\distutils_patch.py:25: UserWarning: Distutils was imported before Setuptools. This usage is discouraged and may exhibit undesirable behaviors or errors. Please use Setuptools' objects directly or at least import Setuptools first.\n",
      "  warnings.warn(\n"
     ]
    }
   ],
   "source": [
    "import os\n",
    "import re\n",
    "import string\n",
    "import functools\n",
    "import operator \n",
    "import json\n",
    "import time\n",
    "import spacy\n",
    "import numpy as np\n",
    "import pandas as pd\n",
    "import matplotlib.pyplot as plt\n",
    "import seaborn as sns\n",
    "import nltk\n",
    "import nlpaug\n",
    "import nlpaug.augmenter.word as naw\n",
    "import torch\n",
    "import torch.nn as nn \n",
    "import torch.nn.functional as F\n",
    "import torch.optim as optim\n",
    "from torch.utils.data import Dataset, DataLoader, random_split\n",
    "from torch.utils.tensorboard import SummaryWriter\n",
    "from dataclasses import dataclass\n",
    "from sklearn.metrics import f1_score, roc_auc_score\n",
    "\n",
    "aug = naw.SynonymAug(aug_src='wordnet')\n",
    "nlp = spacy.load('en_core_web_sm', disable=['ner', 'parser'])\n",
    "stopwords = nlp.Defaults.stop_words"
   ]
  },
  {
   "cell_type": "markdown",
   "id": "b9a34114",
   "metadata": {},
   "source": [
    "## 2. Data works"
   ]
  },
  {
   "cell_type": "code",
   "execution_count": 2,
   "id": "a55829b9",
   "metadata": {},
   "outputs": [],
   "source": [
    "# ovs = pd.read_csv('data/preprocessed.csv')['overall']\n",
    "\n",
    "# ovs = ovs.value_counts().to_dict()\n",
    "# k = ovs.keys()\n",
    "# v = ovs.values()\n",
    "\n",
    "# plt.figure(figsize=(11, 8))\n",
    "# plt.bar(k, v)\n",
    "# plt.show()"
   ]
  },
  {
   "cell_type": "code",
   "execution_count": 3,
   "id": "f52ef080",
   "metadata": {},
   "outputs": [],
   "source": [
    "class Vocabulary:\n",
    "    def __init__(self, data):\n",
    "        self.data = data\n",
    "        \n",
    "        self.vocab = {\n",
    "            '<unk>': 0,\n",
    "            '<pad>': 1,\n",
    "            '<sos>': 2,\n",
    "            '<eos>': 3\n",
    "        }\n",
    "        \n",
    "        self.build_vocab()\n",
    "        \n",
    "    def __getitem__(self, index):\n",
    "        assert type(index) in [str, int], 'Index type must be string or int'\n",
    "        \n",
    "        if isinstance(index, str):\n",
    "            try:\n",
    "                return self.vocab[index]\n",
    "            \n",
    "            except KeyError:\n",
    "                return self.vocab['<unk>']\n",
    "        \n",
    "        elif isinstance(index, int):\n",
    "            try:\n",
    "                return list(self.vocab.keys())[list(self.vocab.values()).index(index)]\n",
    "            except (KeyError,ValueError):\n",
    "                return self[0]\n",
    "    \n",
    "    def __len__(self):\n",
    "        return len(self.vocab)\n",
    "    \n",
    "    def append_word(self, word):\n",
    "        if not word in self.vocab:\n",
    "            self.vocab[word] = len(self)\n",
    "    \n",
    "    def build_vocab(self):\n",
    "        bag_of_words = sorted(list(set(self.data)))\n",
    "        \n",
    "        for word in bag_of_words:\n",
    "            self.append_word(word)"
   ]
  },
  {
   "cell_type": "code",
   "execution_count": 4,
   "id": "b906f444",
   "metadata": {},
   "outputs": [],
   "source": [
    "class RevDataset(Dataset):\n",
    "    def __init__(self, aug=False):\n",
    "        self.path = 'data/Video_Games_5.json'\n",
    "        self.prep_path = 'data/preprocessed.csv'\n",
    "        \n",
    "        # if preprocessed data already exists - load it\n",
    "        if os.path.isfile(self.prep_path):\n",
    "            self.data = pd.read_csv(self.prep_path)[['reviewText', 'overall']]\n",
    "        \n",
    "        # else preprocess and save\n",
    "        else:\n",
    "            with open(self.path, 'r') as f:\n",
    "                lines = [json.loads(line.rstrip()) for line in f]\n",
    "                self.data = pd.DataFrame(lines)[['verified', 'reviewText', 'overall']]\n",
    "                self.data = self.data[self.data['verified']]\n",
    "\n",
    "            self.data = self.data.dropna()\n",
    "            self.data = self.data.reset_index(drop=True)\n",
    "            self.data = self.data.drop('verified', axis=1)\n",
    "            \n",
    "            if aug: \n",
    "                self.augmentation()\n",
    "            \n",
    "            self.data['reviewText'] = self.data['reviewText'].apply(self.clean_data)\n",
    "            self.tok_lemma()\n",
    "\n",
    "            self.data.to_csv(self.prep_path)\n",
    "            \n",
    "        self.build_vocab()\n",
    "        \n",
    "    def __len__(self):\n",
    "        return len(self.data)\n",
    "    \n",
    "    def __getitem__(self, index):\n",
    "        assert type(index) == int, 'Index must be int'\n",
    "        \n",
    "        item = self.data.iloc[index]\n",
    "        text = str(item['reviewText']).split()\n",
    "        \n",
    "        for i, word in enumerate(text):\n",
    "            text[i] = self.Voc[word]\n",
    "            \n",
    "        return text, item['overall']\n",
    "    \n",
    "    @staticmethod\n",
    "    def clean_data(text):\n",
    "        if type(text) != str:\n",
    "            return '   '\n",
    "        \n",
    "        # lowercase\n",
    "        text = text.lower()\n",
    "        \n",
    "        # remove \\n signs\n",
    "        text = text.replace('\\n\\n\\n\\n', ' ').replace('\\n\\n\\n', ' ').replace('\\n\\n', ' ').replace('\\n', ' ')\n",
    "        \n",
    "        # remove url\n",
    "        text = re.sub(r'https?:\\/\\/.*[\\r\\n]*', '', text, flags=re.MULTILINE)\n",
    "        \n",
    "        # remove punctuations\n",
    "        text = text.translate(str.maketrans('', '', string.punctuation))\n",
    "\n",
    "        return text \n",
    "    \n",
    "    def tok_lemma(self):\n",
    "        reviews = self.data['reviewText'].values\n",
    "\n",
    "        reviews = nlp.pipe(reviews, batch_size=128, n_process=3)\n",
    "\n",
    "        reviews = [' '.join([word.lemma_ for word in text if not word in stopwords and word.lemma_ and word.text.isalpha()]) for text in reviews]\n",
    "\n",
    "        self.data['reviewText'] = pd.Series(reviews) \n",
    "        \n",
    "    def build_vocab(self):\n",
    "        bag_of_words = self.data['reviewText'].apply(lambda x: str(x).split()).tolist()\n",
    "\n",
    "        bag_of_words = functools.reduce(operator.iconcat, bag_of_words, [])\n",
    "        \n",
    "        self.Voc = Vocabulary(bag_of_words)\n",
    "\n",
    "        self.Voc.build_vocab()\n",
    "        \n",
    "    def augmentation(self, times=1):\n",
    "        \"\"\"\n",
    "            times: int, how many times to iterate over elements\n",
    "        \"\"\"\n",
    "        to_aug = self.data[self.data['overall'] != 5.0].values\n",
    "        \n",
    "        augmented = []\n",
    "        for _ in range(times):\n",
    "            for review, overall in to_aug:\n",
    "                aug_txt = aug.augment(review)\n",
    "                augmented.append([aug_txt, overall])\n",
    "            \n",
    "        augmented = pd.DataFrame(augmented, columns=self.data.columns)\n",
    "        self.data = pd.concat([self.data, augmented]).sample(frac=1).reset_index(drop=True)"
   ]
  },
  {
   "cell_type": "code",
   "execution_count": 5,
   "id": "b91f07a4",
   "metadata": {},
   "outputs": [],
   "source": [
    "data = RevDataset(aug=True)\n",
    "vocab = data.Voc\n",
    "\n",
    "full_len = len(data)\n",
    "train_len = int(0.8 * full_len)\n",
    "test_len = int(0.1 * full_len)\n",
    "valid_len = full_len - (train_len + test_len)\n",
    "\n",
    "train_set, test_set, valid_set = random_split(data, [train_len, test_len, valid_len])\n",
    "\n",
    "del full_len, train_len, test_len, valid_len"
   ]
  },
  {
   "cell_type": "code",
   "execution_count": 6,
   "id": "e734e81c",
   "metadata": {},
   "outputs": [],
   "source": [
    "@dataclass\n",
    "class cfg:\n",
    "    epochs = 30\n",
    "    max_length = 310\n",
    "    embed_size = 120\n",
    "    hidden_size = 512\n",
    "    num_layers = 3\n",
    "    heads = 8\n",
    "    batch_size = 64\n",
    "    lr = 2.5e-4\n",
    "    vocab_size = len(vocab)"
   ]
  },
  {
   "cell_type": "code",
   "execution_count": 7,
   "id": "2d381485",
   "metadata": {},
   "outputs": [],
   "source": [
    "# lens = [len(data[i][0]) for i in range(len(data)) if len(data[i][0]) < 500]\n",
    "# plt.figure(figsize=(11, 8))\n",
    "# sns.histplot(data=lens, bins=15, kde=True)\n",
    "# plt.show()"
   ]
  },
  {
   "cell_type": "code",
   "execution_count": 8,
   "id": "958c6e89",
   "metadata": {},
   "outputs": [],
   "source": [
    "def pad_seq(batch):\n",
    "    reviews = []\n",
    "    overalls = []\n",
    "    for i, (text, overall) in enumerate(batch):\n",
    "        \n",
    "        text_len = len(text)\n",
    "        \n",
    "        if text_len == cfg.max_length:\n",
    "            pass\n",
    "        elif text_len > cfg.max_length:\n",
    "            text = text[:cfg.max_length]\n",
    "        else:\n",
    "            pad_len = cfg.max_length - text_len\n",
    "            for j in range(pad_len):\n",
    "                # 1 - index of <pad> token in Vocabulary\n",
    "                text.append(vocab['<pad>'])\n",
    "        reviews.append(torch.Tensor(text).type(torch.int64))\n",
    "        overalls.append(int(overall) - 1)\n",
    "    \n",
    "    overalls = torch.LongTensor(overalls)\n",
    "\n",
    "    return torch.stack(reviews), overalls"
   ]
  },
  {
   "cell_type": "code",
   "execution_count": 9,
   "id": "d090f8d2",
   "metadata": {},
   "outputs": [],
   "source": [
    "train_loader = DataLoader(train_set, batch_size=32, collate_fn=pad_seq, shuffle=True)\n",
    "test_loader = DataLoader(test_set, batch_size=32, collate_fn=pad_seq)\n",
    "valid_loader = DataLoader(valid_set, batch_size=32, collate_fn=pad_seq)"
   ]
  },
  {
   "cell_type": "markdown",
   "id": "e07db45b",
   "metadata": {},
   "source": [
    "## 3. Model\n",
    "\n",
    "Model implementation inspired by Alladin Persson's [movie](https://www.youtube.com/watch?v=U0s0f995w14). [GitHub repo](https://github.com/aladdinpersson/Machine-Learning-Collection/blob/master/ML/Pytorch/more_advanced/transformer_from_scratch/transformer_from_scratch.py)."
   ]
  },
  {
   "cell_type": "code",
   "execution_count": 10,
   "id": "e0ce34fa",
   "metadata": {},
   "outputs": [],
   "source": [
    "class SelfAttention(nn.Module):\n",
    "    def __init__(self, embed_size, heads):\n",
    "        super(SelfAttention, self).__init__()\n",
    "        \n",
    "        self.embed_size = embed_size\n",
    "        self.heads = heads\n",
    "        self.head_dim = embed_size // heads\n",
    "        \n",
    "        assert self.head_dim * heads == embed_size, 'Embed size needs to be divisible by heads'\n",
    "        \n",
    "        self.values = nn.Linear(self.head_dim, self.head_dim, bias=False)\n",
    "        self.keys = nn.Linear(self.head_dim, self.head_dim, bias=False)\n",
    "        self.queries = nn.Linear(self.head_dim, self.head_dim, bias=False)\n",
    "        \n",
    "        self.fc_out = nn.Linear(heads*self.head_dim, embed_size)\n",
    "        \n",
    "    def forward(self, values, keys, queries, mask):\n",
    "        N = queries.shape[0]\n",
    "        value_len, key_len, query_len = values.shape[1], keys.shape[1], queries.shape[1]\n",
    "        \n",
    "        values = values.reshape(N, value_len, self.heads, self.head_dim)\n",
    "        keys = keys.reshape(N, key_len, self.heads, self.head_dim)\n",
    "        queries = queries.reshape(N, query_len, self.heads, self.head_dim)\n",
    "        \n",
    "        values = self.values(values) \n",
    "        keys = self.keys(keys)\n",
    "        queries = self.queries(queries)\n",
    "        \n",
    "        energy = torch.einsum('nqhd, nkhd->nhqk', [queries, keys])\n",
    "        \n",
    "        if mask is not None:\n",
    "            # if mask at same point is 0 - shitdown this point - set to -inf, in softmax it will be 0\n",
    "            energy = energy.masked_fill(mask == 0, -1e20)\n",
    "        \n",
    "        attention = torch.softmax(energy / (self.embed_size**(1/2)), dim=3)\n",
    "        \n",
    "        # attention shape: N, heads, query_len, key_len\n",
    "        # values shape: N, value_len, heads, head_dim\n",
    "        # out shape: N, query_len, heads, head_dim\n",
    "        out = torch.einsum('nhql, nlhd->nqhd', [attention, values])\n",
    "        \n",
    "        out = out.reshape(N, query_len, self.heads*self.head_dim)\n",
    "        \n",
    "        return out"
   ]
  },
  {
   "cell_type": "code",
   "execution_count": 11,
   "id": "da2411bc",
   "metadata": {},
   "outputs": [],
   "source": [
    "class TransformerBlock(nn.Module):\n",
    "    def __init__(self, embed_size, heads, dropout, forward_expansion):\n",
    "        super(TransformerBlock, self).__init__()\n",
    "        self.attention = SelfAttention(embed_size, heads)\n",
    "        self.norm1 = nn.LayerNorm(embed_size)\n",
    "        self.norm2 = nn.LayerNorm(embed_size)\n",
    "        \n",
    "        self.feed_forward = nn.Sequential(\n",
    "            nn.Linear(embed_size, forward_expansion*embed_size),\n",
    "            nn.ReLU(),\n",
    "            nn.Linear(forward_expansion*embed_size, embed_size)\n",
    "        )\n",
    "        \n",
    "        self.dropout = nn.Dropout(dropout)\n",
    "        \n",
    "    def forward(self, value, key, queries, mask):\n",
    "        attention = self.attention(value, key, queries, mask)\n",
    "        \n",
    "        x = self.dropout(self.norm1(attention + queries))\n",
    "        forward = self.feed_forward(x)\n",
    "        out = self.dropout(self.norm2(forward + x))\n",
    "        \n",
    "        return out"
   ]
  },
  {
   "cell_type": "code",
   "execution_count": 12,
   "id": "dd1e6c8d",
   "metadata": {},
   "outputs": [],
   "source": [
    "class Model(nn.Module):\n",
    "    def __init__(self, vocab_size, embed_size, num_layers, max_length, heads, device, forward_expansion, mask=True, dropout=0):\n",
    "        super(Model, self).__init__()\n",
    "        \n",
    "        self.embed_size = embed_size\n",
    "        self.device = device\n",
    "        self.word_embedding = nn.Embedding(vocab_size, embed_size)\n",
    "        self.position_embedding = nn.Embedding(max_length, embed_size)\n",
    "        self.mask = mask\n",
    "\n",
    "        self.layers = nn.ModuleList(\n",
    "            [\n",
    "                TransformerBlock(\n",
    "                    embed_size,\n",
    "                    heads,\n",
    "                    dropout=dropout,\n",
    "                    forward_expansion=forward_expansion,\n",
    "                )\n",
    "                for _ in range(num_layers)\n",
    "            ]\n",
    "        )\n",
    "        \n",
    "        self.fc1 = nn.Linear(max_length*embed_size, max_length*forward_expansion)\n",
    "        self.fc2 = nn.Linear(max_length*forward_expansion, max_length)\n",
    "        \n",
    "        self.fc_out = nn.Linear(max_length, 5)\n",
    "        \n",
    "        self.dropout = nn.Dropout(dropout)\n",
    "        \n",
    "    def forward(self, x):\n",
    "        N, seq_len = x.shape\n",
    "        \n",
    "        mask = self.make_mask(N, seq_len) if self.mask else None\n",
    "        \n",
    "        positions = torch.arange(0, seq_len).expand(N, seq_len).to(self.device)\n",
    "\n",
    "        x = self.dropout(self.word_embedding(x) + self.position_embedding(positions))\n",
    "        \n",
    "        for layer in self.layers:\n",
    "            x = layer(x, x, x, mask)\n",
    "\n",
    "        # x shape: N, max_length, embed_size\n",
    "        # flat x\n",
    "        x = x.reshape(N, -1)\n",
    "        \n",
    "        x = self.dropout(F.relu(self.fc1(x)))\n",
    "        x = self.dropout(F.relu(self.fc2(x)))\n",
    "        \n",
    "        # out shape: N, 5\n",
    "        out = self.fc_out(x)\n",
    "        \n",
    "        return out \n",
    "    \n",
    "    def make_mask(self, N, seq_len):\n",
    "        \n",
    "        mask = torch.tril(torch.ones(seq_len, seq_len))\n",
    "        mask = mask.expand(N, 1, seq_len, seq_len).to(self.device)\n",
    "        \n",
    "        return mask"
   ]
  },
  {
   "cell_type": "markdown",
   "id": "477a9050",
   "metadata": {},
   "source": [
    "## 4. Defining model and training it"
   ]
  },
  {
   "cell_type": "code",
   "execution_count": 13,
   "id": "dae5499a",
   "metadata": {},
   "outputs": [],
   "source": [
    "device = torch.device('cuda' if torch.cuda.is_available() else 'cpu')"
   ]
  },
  {
   "cell_type": "code",
   "execution_count": 14,
   "id": "23d9fb34",
   "metadata": {},
   "outputs": [],
   "source": [
    "model = Model(\n",
    "    vocab_size=cfg.vocab_size, \n",
    "    embed_size=cfg.embed_size, \n",
    "    num_layers=cfg.num_layers, \n",
    "    max_length=cfg.max_length,\n",
    "    heads=cfg.heads, \n",
    "    device=device, \n",
    "    forward_expansion=4, \n",
    "    mask=True,\n",
    "    dropout=0.25)"
   ]
  },
  {
   "cell_type": "code",
   "execution_count": 15,
   "id": "9f0129d4",
   "metadata": {},
   "outputs": [],
   "source": [
    "criterion = nn.CrossEntropyLoss()\n",
    "optimizer = optim.Adam(model.parameters(), lr=cfg.lr)"
   ]
  },
  {
   "cell_type": "code",
   "execution_count": 16,
   "id": "105c82b7",
   "metadata": {},
   "outputs": [],
   "source": [
    "def train_epoch(epoch, loader, model, optimizer, criterion, n_iter):\n",
    "    running_loss = 0\n",
    "    corr = 0\n",
    "    tot_samples = 0 \n",
    "    \n",
    "    no_batches = len(loader)\n",
    "    \n",
    "    print(f'EPOCH {epoch+1}')\n",
    "    \n",
    "    for batch_idx, (source, target) in enumerate(loader):\n",
    "        source = source.to(device)\n",
    "        target = target.to(device)\n",
    "        \n",
    "        # backward propagation\n",
    "        scores = model(source)\n",
    "        loss = criterion(scores, target)\n",
    "\n",
    "        # forward propagation\n",
    "        optimizer.zero_grad()\n",
    "        loss.backward()\n",
    "\n",
    "        optimizer.step()\n",
    "        \n",
    "        running_loss += loss.item()\n",
    "        \n",
    "        _, pred = scores.max(1)\n",
    "\n",
    "        corr += (pred == target).sum()\n",
    "        tot_samples += pred.size(0)\n",
    "        \n",
    "        if (batch_idx + 1) % int(no_batches * .3) == 0: # .3 - beacouse it should print log ~3 times per epoch\n",
    "            n_iter += 1\n",
    "            \n",
    "            lss = running_loss / tot_samples\n",
    "            acc = corr / tot_samples\n",
    "            \n",
    "            print(f'Epoch: {epoch + 1} Batch: {batch_idx}/{no_batches} Loss: {lss}, Accuracy: {acc}')\n",
    "            writer.add_scalar('Loss/train', lss, n_iter)\n",
    "            writer.add_scalar('Accuracy/train', acc, n_iter)\n",
    "\n",
    "            running_loss = 0\n",
    "            corr = 0\n",
    "            tot_samples = 0 \n",
    "            \n",
    "    return running_loss, corr, tot_samples, n_iter"
   ]
  },
  {
   "cell_type": "code",
   "execution_count": 17,
   "id": "ba6c5855",
   "metadata": {},
   "outputs": [],
   "source": [
    "def valid_epoch(epoch, loader, model):\n",
    "    running_loss = 0\n",
    "    corr = 0\n",
    "    tot_samples = 0\n",
    "    \n",
    "    with torch.no_grad():\n",
    "        model.eval()\n",
    "        for batch_idx, (source, target) in enumerate(loader):\n",
    "            source = source.to(device)\n",
    "            target = target.to(device)\n",
    "\n",
    "            scores = model(source)\n",
    "            loss = criterion(scores, target)\n",
    "            \n",
    "            running_loss += loss.item()\n",
    "        \n",
    "            _, pred = scores.max(1)\n",
    "\n",
    "            corr += (pred == target).sum()\n",
    "            tot_samples += pred.size(0)\n",
    "            \n",
    "        model.train()\n",
    "        \n",
    "    lss = running_loss / tot_samples\n",
    "    acc = corr / tot_samples\n",
    "    \n",
    "    print(f'Epoch: {epoch + 1} VLoss: {lss}, VAccuracy: {acc}')\n",
    "    \n",
    "    return running_loss, corr, tot_samples"
   ]
  },
  {
   "cell_type": "code",
   "execution_count": 18,
   "id": "c68e5231",
   "metadata": {},
   "outputs": [],
   "source": [
    "model = model.to(device)\n",
    "SD_PATH = 'models/model.pt'\n",
    "\n",
    "if os.path.exists(SD_PATH):\n",
    "    model.load_state_dict(torch.load(SD_PATH, map_location=device))\n",
    "else:\n",
    "    n_iter = 0\n",
    "    history = []\n",
    "\n",
    "    for epoch in range(cfg.epochs):       \n",
    "        loss, corr, samples, n_iter = train_epoch(epoch, train_loader, model, optimizer, criterion, n_iter)\n",
    "        val_loss, val_corr, val_samples = valid_epoch(epoch, valid_loader, model)\n",
    "\n",
    "        history.append({\n",
    "            'epoch': epoch,\n",
    "            'loss': loss,\n",
    "            'corr': corr.item(),\n",
    "            'samples': samples,\n",
    "            'vloss': val_loss,\n",
    "            'vcorr': val_corr.item(),\n",
    "            'vsamples': val_samples\n",
    "        })\n",
    "        \n",
    "    t = time.time()\n",
    "    torch.save(model.state_dict(), f'models/model-{t}.pt')\n",
    "    \n",
    "    with open(f'models/history-{t}.json', 'w+') as f:\n",
    "        f.write(json.dumps(history))"
   ]
  },
  {
   "cell_type": "markdown",
   "id": "10f2209b",
   "metadata": {},
   "source": [
    "## 5. Model evaluation"
   ]
  },
  {
   "cell_type": "code",
   "execution_count": 19,
   "id": "f5e2ee64",
   "metadata": {},
   "outputs": [],
   "source": [
    "history = {\n",
    "        'epoch': [],\n",
    "        'loss': [],\n",
    "        'corr': [],\n",
    "        'samples': [],\n",
    "        'vloss': [],\n",
    "        'vcorr': [],\n",
    "        'vsamples': []\n",
    "    }\n",
    "\n",
    "with open('models/history.json') as f:    \n",
    "    hist = json.loads(f.read())\n",
    "    \n",
    "for item in hist:\n",
    "    for metric in history.keys():\n",
    "        history[metric].append(item[metric])"
   ]
  },
  {
   "cell_type": "code",
   "execution_count": 20,
   "id": "c8e6ab37",
   "metadata": {},
   "outputs": [],
   "source": [
    "accuracy = {\n",
    "    'accuracy': [x / y for x, y in zip(history['corr'], history['samples'])],\n",
    "    'vaccuracy': [x / y for x, y in zip(history['vcorr'], history['vsamples'])],\n",
    "}\n",
    "\n",
    "loss = {\n",
    "    'loss': [x / y for x, y in zip(history['loss'], history['samples'])],\n",
    "    'vloss': [x / y for x, y in zip(history['vloss'], history['vsamples'])],\n",
    "} \n",
    "accuracy = pd.DataFrame.from_dict(accuracy)\n",
    "loss = pd.DataFrame.from_dict(loss)"
   ]
  },
  {
   "cell_type": "code",
   "execution_count": 21,
   "id": "ac210df1",
   "metadata": {},
   "outputs": [
    {
     "data": {
      "image/png": "[encoded data removed]",
      "text/plain": [
       "<Figure size 792x576 with 1 Axes>"
      ]
     },
     "metadata": {
      "needs_background": "light"
     },
     "output_type": "display_data"
    }
   ],
   "source": [
    "plt.figure(figsize=(11, 8))\n",
    "sns.set_theme()\n",
    "sns.lineplot(data=loss).set(title='Loss')\n",
    "plt.show()"
   ]
  },
  {
   "cell_type": "code",
   "execution_count": 22,
   "id": "9bc99318",
   "metadata": {},
   "outputs": [
    {
     "data": {
      "image/png": "[encoded data removed]",
      "text/plain": [
       "<Figure size 792x576 with 1 Axes>"
      ]
     },
     "metadata": {},
     "output_type": "display_data"
    }
   ],
   "source": [
    "plt.figure(figsize=(11, 8))\n",
    "sns.lineplot(data=accuracy).set(title='Accuracy')\n",
    "plt.show()"
   ]
  },
  {
   "cell_type": "code",
   "execution_count": 23,
   "id": "78d03f36",
   "metadata": {},
   "outputs": [],
   "source": [
    "predictions = []\n",
    "true_values = []\n",
    "\n",
    "with torch.no_grad():\n",
    "    model.eval()\n",
    "    for batch_idx, (source, target) in enumerate(test_loader):\n",
    "        source = source.to(device)\n",
    "        target = target.to(device)\n",
    "        \n",
    "        scores = model(source)\n",
    "        \n",
    "        _, pred = scores.max(1)\n",
    "        \n",
    "        predictions.extend(pred.tolist())\n",
    "        true_values.extend(target.tolist())\n",
    "    \n",
    "    model.train()"
   ]
  },
  {
   "cell_type": "code",
   "execution_count": 72,
   "id": "1e4544bb",
   "metadata": {},
   "outputs": [
    {
     "name": "stdout",
     "output_type": "stream",
     "text": [
      "F1-score: 0.8028554001852396\n"
     ]
    }
   ],
   "source": [
    "f1 = f1_score(true_values, predictions, average='micro')\n",
    "\n",
    "print(f'F1-score: {f1}')"
   ]
  },
  {
   "cell_type": "code",
   "execution_count": 74,
   "id": "a61a091f",
   "metadata": {},
   "outputs": [
    {
     "name": "stdout",
     "output_type": "stream",
     "text": [
      "ROC AUC Score: 0.8767846251157748\n"
     ]
    }
   ],
   "source": [
    "true_v = F.one_hot(torch.LongTensor(true_values))\n",
    "pred_v = F.one_hot(torch.LongTensor(predictions))\n",
    "\n",
    "r = roc_auc_score(true_v, pred_v, average='micro', multi_class='ovo')\n",
    "\n",
    "print(f'ROC AUC Score: {r}')"
   ]
  },
  {
   "cell_type": "markdown",
   "id": "12a08b27",
   "metadata": {},
   "source": [
    "## 6. Sample predictions"
   ]
  },
  {
   "cell_type": "code",
   "execution_count": 50,
   "id": "ac7ec151",
   "metadata": {},
   "outputs": [],
   "source": [
    "def predict(review):\n",
    "    assert type(review) == str, 'Review must be a string'\n",
    "        \n",
    "    # lowercase\n",
    "    review = review.lower()\n",
    "        \n",
    "    # remove \\n signs\n",
    "    review = review.replace('\\n\\n\\n\\n', ' ').replace('\\n\\n\\n', ' ').replace('\\n\\n', ' ').replace('\\n', ' ')\n",
    "        \n",
    "    # remove url\n",
    "    review = re.sub(r'https?:\\/\\/.*[\\r\\n]*', '', review, flags=re.MULTILINE)\n",
    "        \n",
    "    # remove punctuations\n",
    "    review = review.translate(str.maketrans('', '', string.punctuation))\n",
    "\n",
    "    review = nlp(review)\n",
    "\n",
    "    review = [vocab[word.lemma_] for word in review if not word in stopwords and word.lemma_ and word.text.isalpha()]\n",
    "    \n",
    "    rev_len = len(review)\n",
    "    \n",
    "    if rev_len == cfg.max_length:\n",
    "        pass\n",
    "    elif rev_len > cfg.max_length:\n",
    "        review = review[:cfg.max_length]\n",
    "    else:\n",
    "        pad_len = cfg.max_length - rev_len\n",
    "        for j in range(pad_len):\n",
    "            # 1 - index of <pad> token in Vocabulary\n",
    "            review.append(vocab['<pad>'])\n",
    "            \n",
    "    review = torch.LongTensor(review).unsqueeze(0).to(device)\n",
    "    \n",
    "    pred = model(review)\n",
    "    _, pred = pred.max(1)\n",
    "    \n",
    "    print(f'Predicted stars: {pred.item() + 1}')"
   ]
  },
  {
   "cell_type": "code",
   "execution_count": 61,
   "id": "e6c019d2",
   "metadata": {},
   "outputs": [
    {
     "name": "stdout",
     "output_type": "stream",
     "text": [
      "Predicted stars: 5\n"
     ]
    }
   ],
   "source": [
    "predict('This game is great. Voice is incredible. Thanks for it!!!')"
   ]
  },
  {
   "cell_type": "code",
   "execution_count": 62,
   "id": "6840c788",
   "metadata": {},
   "outputs": [
    {
     "name": "stdout",
     "output_type": "stream",
     "text": [
      "Predicted stars: 1\n"
     ]
    }
   ],
   "source": [
    "predict('What a terrible experience')"
   ]
  },
  {
   "cell_type": "code",
   "execution_count": 66,
   "id": "e35b211a",
   "metadata": {},
   "outputs": [
    {
     "name": "stdout",
     "output_type": "stream",
     "text": [
      "Predicted stars: 4\n"
     ]
    }
   ],
   "source": [
    "predict('Not bad. Has potential')"
   ]
  },
  {
   "cell_type": "code",
   "execution_count": 70,
   "id": "cb1e39d5",
   "metadata": {},
   "outputs": [
    {
     "name": "stdout",
     "output_type": "stream",
     "text": [
      "Predicted stars: 3\n"
     ]
    }
   ],
   "source": [
    "# 45 points from PlaySense, metacritic.com\n",
    "predict('The gameplay of this new installment, like others in the franchise, is fun, thanks in part to its engaging theme. The fact is, however, that the execution leaves quite a bit to be desired. For example, the graphics are from 10 years back, the performance is a disaster and the addition of political elements does not really work. Ignore it.')"
   ]
  }
 ],
 "metadata": {
  "kernelspec": {
   "display_name": "amazon-rev",
   "language": "python",
   "name": "amazon-rev"
  },
  "language_info": {
   "codemirror_mode": {
    "name": "ipython",
    "version": 3
   },
   "file_extension": ".py",
   "mimetype": "text/x-python",
   "name": "python",
   "nbconvert_exporter": "python",
   "pygments_lexer": "ipython3",
   "version": "3.8.8"
  }
 },
 "nbformat": 4,
 "nbformat_minor": 5
}
