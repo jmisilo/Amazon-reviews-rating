{
 "cells": [
  {
   "cell_type": "code",
   "execution_count": 1,
   "id": "8c920820",
   "metadata": {},
   "outputs": [],
   "source": [
    "import re\n",
    "import string\n",
    "import functools\n",
    "import operator \n",
    "import json\n",
    "import spacy\n",
    "import numpy as np\n",
    "import pandas as pd\n",
    "import matplotlib as plt\n",
    "import torch\n",
    "import torch.nn as nn \n",
    "import torch.nn.functional as F\n",
    "import torch.optim as optim\n",
    "from torch.utils.data import Dataset, DataLoader, random_split\n",
    "from dataclasses import dataclass\n",
    "\n",
    "nlp = spacy.load('en_core_web_sm', disable=['ner', 'parser'])\n",
    "stopwords = nlp.Defaults.stop_words"
   ]
  },
  {
   "cell_type": "code",
   "execution_count": 2,
   "id": "efe61865",
   "metadata": {},
   "outputs": [],
   "source": [
    "@dataclass\n",
    "class cfg:\n",
    "    batch_size = 32\n",
    "    lr = 3e-4"
   ]
  },
  {
   "cell_type": "code",
   "execution_count": 3,
   "id": "b906f444",
   "metadata": {},
   "outputs": [],
   "source": [
    "class RevDataset(Dataset):\n",
    "    def __init__(self, path):\n",
    "        self.path = path \n",
    "        \n",
    "        with open('data/Video_Games_5.json', 'r') as f:\n",
    "            lines = [json.loads(line.rstrip()) for line in f]\n",
    "            self.data = pd.DataFrame(lines)[['verified', 'reviewText', 'overall']]\n",
    "            self.data = self.data[self.data['verified']]\n",
    "        \n",
    "        self.data = self.data.dropna()\n",
    "        self.data = self.data.reset_index(drop=True)\n",
    "        self.data = self.data.drop('verified', axis=1)\n",
    "        \n",
    "        self.data['reviewText'] = self.data['reviewText'].apply(self.clean_data)\n",
    "        self.tok_lemma()\n",
    "        \n",
    "        self.data.to_csv('data/preprocessed.csv')\n",
    "        \n",
    "    def __len__(self):\n",
    "        return len(self.data)\n",
    "    \n",
    "    def __getitem__(self, index):\n",
    "        assert type(index) == int, 'Index must be int'\n",
    "        \n",
    "        item = self.data.iloc[index]\n",
    "        \n",
    "        return item['reviewText'], item['overall']\n",
    "    \n",
    "    @staticmethod\n",
    "    def clean_data(text):\n",
    "        if type(text) != str:\n",
    "            return '   '\n",
    "        \n",
    "        # lowercase\n",
    "        text = text.lower()\n",
    "        \n",
    "        # remove \\n signs\n",
    "        text = text.replace('\\n\\n\\n\\n', ' ').replace('\\n\\n\\n', ' ').replace('\\n\\n', ' ').replace('\\n', ' ')\n",
    "        \n",
    "        # remove url\n",
    "        text = re.sub(r'https?:\\/\\/.*[\\r\\n]*', '', text, flags=re.MULTILINE)\n",
    "        \n",
    "        # remove punctuations\n",
    "        text = text.translate(str.maketrans('', '', string.punctuation))\n",
    "\n",
    "        return text \n",
    "    \n",
    "    def tok_lemma(self):\n",
    "        reviews = self.data['reviewText'].values\n",
    "\n",
    "        reviews = nlp.pipe(reviews, batch_size=1, n_process=3)\n",
    "\n",
    "        reviews = [' '.join([word.lemma_ for word in text if not word in stopwords and word.lemma_ and word.text.isalpha()]) for text in reviews]\n",
    "\n",
    "        self.data['reviewText'] = pd.Series(reviews) "
   ]
  },
  {
   "cell_type": "code",
   "execution_count": 4,
   "id": "b91f07a4",
   "metadata": {},
   "outputs": [],
   "source": [
    "data = RevDataset('data/Video_Games_5.json')"
   ]
  },
  {
   "cell_type": "code",
   "execution_count": null,
   "id": "5a6de98b",
   "metadata": {},
   "outputs": [],
   "source": []
  }
 ],
 "metadata": {
  "kernelspec": {
   "display_name": "amazon-rev-sent-analysis",
   "language": "python",
   "name": "amazon-rev-sent-analysis"
  },
  "language_info": {
   "codemirror_mode": {
    "name": "ipython",
    "version": 3
   },
   "file_extension": ".py",
   "mimetype": "text/x-python",
   "name": "python",
   "nbconvert_exporter": "python",
   "pygments_lexer": "ipython3",
   "version": "3.8.8"
  }
 },
 "nbformat": 4,
 "nbformat_minor": 5
}
